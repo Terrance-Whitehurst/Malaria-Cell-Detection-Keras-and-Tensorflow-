{
 "cells": [
  {
   "cell_type": "code",
   "execution_count": 1,
   "metadata": {
    "_uuid": "c28aa1a9db4a14179fcde9e6fc98ab66c20128a8"
   },
   "outputs": [
    {
     "name": "stderr",
     "output_type": "stream",
     "text": [
      "Using TensorFlow backend.\n"
     ]
    }
   ],
   "source": [
    "#-------Import Dependencies-------#\n",
    "%matplotlib inline\n",
    "import pandas as pd\n",
    "import os,shutil,math,scipy,cv2\n",
    "import numpy as np\n",
    "import matplotlib.pyplot as plt\n",
    "\n",
    "from sklearn.utils import shuffle\n",
    "from sklearn.metrics import classification_report\n",
    "from sklearn.model_selection import train_test_split\n",
    "from keras.utils.np_utils import to_categorical\n",
    "from sklearn.metrics import confusion_matrix,roc_curve,auc\n",
    "\n",
    "from PIL import Image\n",
    "from PIL import Image as pil_image\n",
    "from time import time\n",
    "from PIL import ImageDraw\n",
    "from glob import glob\n",
    "from tqdm import tqdm\n",
    "from skimage.io import imread\n",
    "from IPython.display import SVG\n",
    "\n",
    "from scipy import misc,ndimage\n",
    "from scipy.ndimage.interpolation import zoom\n",
    "from scipy.ndimage import imread\n",
    "\n",
    "from keras import backend as K\n",
    "from keras import layers\n",
    "from keras.preprocessing.image import save_img\n",
    "from keras.utils.vis_utils import model_to_dot\n",
    "from keras.applications.vgg19 import VGG19,preprocess_input\n",
    "from keras.applications.xception import Xception\n",
    "from keras.applications.nasnet import NASNetMobile\n",
    "from keras.models import Sequential,Input,Model\n",
    "from keras.layers import Dense,Flatten,Dropout,Concatenate,GlobalAveragePooling2D,Lambda,ZeroPadding2D\n",
    "from keras.layers import SeparableConv2D,BatchNormalization,MaxPooling2D,Conv2D\n",
    "from keras.preprocessing.image import ImageDataGenerator\n",
    "from keras.optimizers import Adam,SGD\n",
    "from keras.utils.vis_utils import plot_model\n",
    "from keras.callbacks import ModelCheckpoint,EarlyStopping,TensorBoard,CSVLogger,ReduceLROnPlateau,LearningRateScheduler"
   ]
  },
  {
   "cell_type": "code",
   "execution_count": 2,
   "metadata": {
    "_uuid": "36e610c1c72ac12256a4d3638b77f488ef2ed591"
   },
   "outputs": [],
   "source": [
    "def show_final_history(history):\n",
    "    fig, ax = plt.subplots(1, 2, figsize=(15,5))\n",
    "    ax[0].set_title('loss')\n",
    "    ax[0].plot(history.epoch, history.history[\"loss\"], label=\"Train loss\")\n",
    "    ax[0].plot(history.epoch, history.history[\"val_loss\"], label=\"Validation loss\")\n",
    "    ax[1].set_title('acc')\n",
    "    ax[1].plot(history.epoch, history.history[\"acc\"], label=\"Train acc\")\n",
    "    ax[1].plot(history.epoch, history.history[\"val_acc\"], label=\"Validation acc\")\n",
    "    ax[0].legend()\n",
    "    ax[1].legend()"
   ]
  },
  {
   "cell_type": "code",
   "execution_count": 3,
   "metadata": {
    "_uuid": "9960e0c1cc52b4a5f15912e22b855ca18294f08b"
   },
   "outputs": [
    {
     "name": "stdout",
     "output_type": "stream",
     "text": [
      "Found 19292 images belonging to 2 classes.\n",
      "Found 8266 images belonging to 2 classes.\n"
     ]
    }
   ],
   "source": [
    "augs = ImageDataGenerator(\n",
    "    rescale=1./255,\n",
    "    shear_range=0.2,  \n",
    "    zoom_range=0.2,        \n",
    "    horizontal_flip=True,\n",
    "    validation_split=0.3)  \n",
    "\n",
    "train_gen = augs.flow_from_directory(\n",
    "    '../input/cell_images/cell_images',\n",
    "    target_size = (50,50),\n",
    "    batch_size=16,\n",
    "    class_mode = 'categorical',\n",
    "    subset='training')\n",
    "\n",
    "val_gen = augs.flow_from_directory(\n",
    "    '../input/cell_images/cell_images',\n",
    "    target_size=(50,50),\n",
    "    batch_size=16,\n",
    "    class_mode='categorical',\n",
    "    subset='validation')"
   ]
  },
  {
   "cell_type": "code",
   "execution_count": 4,
   "metadata": {
    "_uuid": "771fb9d9db8c0292ef63be4ba7e863f6e86d5a92"
   },
   "outputs": [
    {
     "name": "stdout",
     "output_type": "stream",
     "text": [
      "_________________________________________________________________\n",
      "Layer (type)                 Output Shape              Param #   \n",
      "=================================================================\n",
      "lambda_1 (Lambda)            (None, 50, 50, 3)         0         \n",
      "_________________________________________________________________\n",
      "block_1 (SeparableConv2D)    (None, 48, 48, 64)        283       \n",
      "_________________________________________________________________\n",
      "batch_normalization_1 (Batch (None, 48, 48, 64)        256       \n",
      "_________________________________________________________________\n",
      "max_pooling2d_1 (MaxPooling2 (None, 24, 24, 64)        0         \n",
      "_________________________________________________________________\n",
      "block_2 (SeparableConv2D)    (None, 22, 22, 128)       8896      \n",
      "_________________________________________________________________\n",
      "batch_normalization_2 (Batch (None, 22, 22, 128)       512       \n",
      "_________________________________________________________________\n",
      "max_pooling2d_2 (MaxPooling2 (None, 11, 11, 128)       0         \n",
      "_________________________________________________________________\n",
      "block_3 (SeparableConv2D)    (None, 9, 9, 256)         34176     \n",
      "_________________________________________________________________\n",
      "batch_normalization_3 (Batch (None, 9, 9, 256)         1024      \n",
      "_________________________________________________________________\n",
      "max_pooling2d_3 (MaxPooling2 (None, 4, 4, 256)         0         \n",
      "_________________________________________________________________\n",
      "block_4 (SeparableConv2D)    (None, 2, 2, 512)         133888    \n",
      "_________________________________________________________________\n",
      "batch_normalization_4 (Batch (None, 2, 2, 512)         2048      \n",
      "_________________________________________________________________\n",
      "max_pooling2d_4 (MaxPooling2 (None, 1, 1, 512)         0         \n",
      "_________________________________________________________________\n",
      "flatten_1 (Flatten)          (None, 512)               0         \n",
      "_________________________________________________________________\n",
      "dense_1 (Dense)              (None, 1024)              525312    \n",
      "_________________________________________________________________\n",
      "dropout_1 (Dropout)          (None, 1024)              0         \n",
      "_________________________________________________________________\n",
      "dense_2 (Dense)              (None, 2)                 2050      \n",
      "=================================================================\n",
      "Total params: 708,445\n",
      "Trainable params: 706,525\n",
      "Non-trainable params: 1,920\n",
      "_________________________________________________________________\n"
     ]
    }
   ],
   "source": [
    "def ConvBlock(model, layers, filters,name):\n",
    "    for i in range(layers):\n",
    "        model.add(SeparableConv2D(filters, (3, 3), activation='relu',name=name))\n",
    "        model.add(BatchNormalization())\n",
    "        model.add(MaxPooling2D((2, 2), strides=(2, 2)))\n",
    "    \n",
    "def FCN():\n",
    "    model = Sequential()\n",
    "    model.add(Lambda(lambda x: x, input_shape=(50, 50, 3)))\n",
    "    ConvBlock(model, 1, 64,'block_1')\n",
    "    ConvBlock(model, 1, 128,'block_2')\n",
    "    ConvBlock(model, 1, 256,'block_3')\n",
    "    ConvBlock(model, 1, 512,'block_4')\n",
    "    model.add(Flatten())\n",
    "    model.add(Dense(1024,activation='relu'))\n",
    "    model.add(Dropout(0.5))\n",
    "    model.add(Dense(2,activation='sigmoid'))\n",
    "    return model\n",
    "\n",
    "model = FCN()\n",
    "model.summary()\n",
    "\n",
    "SVG(model_to_dot(model).create(prog='dot', format='svg'))\n",
    "plot_model(model, to_file='model_plot.png', show_shapes=True, show_layer_names=True, expand_nested=True)"
   ]
  },
  {
   "cell_type": "code",
   "execution_count": 5,
   "metadata": {
    "_uuid": "f07c572da5cdb0ad23e6feeacc781f5c26483122"
   },
   "outputs": [],
   "source": [
    "#-------Callbacks-------------#\n",
    "best_model_weights = './base.model'\n",
    "checkpoint = ModelCheckpoint(\n",
    "    best_model_weights,\n",
    "    monitor='val_loss',\n",
    "    verbose=1,\n",
    "    save_best_only=True,\n",
    "    mode='min',\n",
    "    save_weights_only=False,\n",
    "    period=1\n",
    ")\n",
    "earlystop = EarlyStopping(\n",
    "    monitor='val_loss',\n",
    "    min_delta=0.001,\n",
    "    patience=10,\n",
    "    verbose=1,\n",
    "    mode='auto'\n",
    ")\n",
    "tensorboard = TensorBoard(\n",
    "    log_dir = './logs',\n",
    "    histogram_freq=0,\n",
    "    batch_size=16,\n",
    "    write_graph=True,\n",
    "    write_grads=True,\n",
    "    write_images=False,\n",
    ")\n",
    "\n",
    "csvlogger = CSVLogger(\n",
    "    filename= \"training_csv.log\",\n",
    "    separator = \",\",\n",
    "    append = False\n",
    ")\n",
    "\n",
    "#lrsched = LearningRateScheduler(step_decay,verbose=1)\n",
    "\n",
    "reduce = ReduceLROnPlateau(\n",
    "    monitor='val_loss',\n",
    "    factor=0.5,\n",
    "    patience=40,\n",
    "    verbose=1, \n",
    "    mode='auto',\n",
    "    cooldown=1 \n",
    ")\n",
    "\n",
    "callbacks = [checkpoint,tensorboard,csvlogger,reduce]"
   ]
  },
  {
   "cell_type": "code",
   "execution_count": 6,
   "metadata": {
    "_uuid": "6253e791684ef67730ff57701b3ea759947e3a9f"
   },
   "outputs": [
    {
     "name": "stdout",
     "output_type": "stream",
     "text": [
      "Epoch 1/10\n",
      "1206/1206 [==============================] - 124s 103ms/step - loss: 0.3879 - acc: 0.8221 - val_loss: 0.2085 - val_acc: 0.9277\n",
      "\n",
      "Epoch 00001: val_loss improved from inf to 0.20853, saving model to ./base.model\n",
      "Epoch 2/10\n",
      "1206/1206 [==============================] - 93s 77ms/step - loss: 0.2049 - acc: 0.9296 - val_loss: 0.1643 - val_acc: 0.9439\n",
      "\n",
      "Epoch 00002: val_loss improved from 0.20853 to 0.16433, saving model to ./base.model\n",
      "Epoch 3/10\n",
      "1206/1206 [==============================] - 92s 77ms/step - loss: 0.1831 - acc: 0.9383 - val_loss: 0.1645 - val_acc: 0.9466\n",
      "\n",
      "Epoch 00003: val_loss did not improve from 0.16433\n",
      "Epoch 4/10\n",
      "1206/1206 [==============================] - 93s 77ms/step - loss: 0.1815 - acc: 0.9393 - val_loss: 0.1467 - val_acc: 0.9478\n",
      "\n",
      "Epoch 00004: val_loss improved from 0.16433 to 0.14673, saving model to ./base.model\n",
      "Epoch 5/10\n",
      "1206/1206 [==============================] - 93s 77ms/step - loss: 0.1680 - acc: 0.9433 - val_loss: 0.1488 - val_acc: 0.9492\n",
      "\n",
      "Epoch 00005: val_loss did not improve from 0.14673\n",
      "Epoch 6/10\n",
      "1206/1206 [==============================] - 93s 77ms/step - loss: 0.1614 - acc: 0.9454 - val_loss: 0.1442 - val_acc: 0.9501\n",
      "\n",
      "Epoch 00006: val_loss improved from 0.14673 to 0.14418, saving model to ./base.model\n",
      "Epoch 7/10\n",
      "1206/1206 [==============================] - 93s 77ms/step - loss: 0.1592 - acc: 0.9471 - val_loss: 0.1520 - val_acc: 0.9475\n",
      "\n",
      "Epoch 00007: val_loss did not improve from 0.14418\n",
      "Epoch 8/10\n",
      "1206/1206 [==============================] - 93s 77ms/step - loss: 0.1600 - acc: 0.9462 - val_loss: 0.1690 - val_acc: 0.9430\n",
      "\n",
      "Epoch 00008: val_loss did not improve from 0.14418\n",
      "Epoch 9/10\n",
      "1206/1206 [==============================] - 92s 77ms/step - loss: 0.1556 - acc: 0.9478 - val_loss: 0.1486 - val_acc: 0.9487\n",
      "\n",
      "Epoch 00009: val_loss did not improve from 0.14418\n",
      "Epoch 10/10\n",
      " 836/1206 [===================>..........] - ETA: 15s - loss: 0.1497 - acc: 0.9481"
     ]
    }
   ],
   "source": [
    "opt = SGD(lr=1e-4,momentum=0.99)\n",
    "opt1 = Adam(lr=2e-4)\n",
    "\n",
    "model.compile(\n",
    "    loss='binary_crossentropy',\n",
    "    optimizer=opt,\n",
    "    metrics=['accuracy']\n",
    ")\n",
    "    \n",
    "history = model.fit_generator(\n",
    "    train_gen, \n",
    "    steps_per_epoch  = 1206, \n",
    "    validation_data  = val_gen,\n",
    "    validation_steps = 1206,\n",
    "    epochs = 10, \n",
    "    verbose = 1,\n",
    "    callbacks=callbacks\n",
    ")"
   ]
  },
  {
   "cell_type": "code",
   "execution_count": 7,
   "metadata": {
    "_uuid": "562e2d75c3801042d4714f195f8793eb7e47d72d"
   },
   "outputs": [
    {
     "name": "stdout",
     "output_type": "stream",
     "text": [
      "Model Test Loss: 0.14358350084569532\n",
      "Model Test Accuracy: 0.9510646019984527\n"
     ]
    },
    {
     "data": {
      "image/png": "[encoded data removed]",
      "text/plain": [
       "<Figure size 1080x360 with 2 Axes>"
      ]
     },
     "metadata": {},
     "output_type": "display_data"
    }
   ],
   "source": [
    "show_final_history(history)\n",
    "model.load_weights(best_model_weights)\n",
    "model_score = model.evaluate_generator(val_gen)\n",
    "print(\"Model Test Loss:\",model_score[0])\n",
    "print(\"Model Test Accuracy:\",model_score[1])\n"
   ]
  },
  {
   "cell_type": "code",
   "execution_count": 8,
   "metadata": {
    "_uuid": "953899536bf04c69bdceae8ffc3221ecde687216"
   },
   "outputs": [],
   "source": []
  },
  {
   "cell_type": "code",
   "execution_count": 8,
   "metadata": {
    "_uuid": "18cf3b78fb3658afc7244150536e83173a49a601"
   },
   "outputs": [
    {
     "name": "stdout",
     "output_type": "stream",
     "text": [
      "--2019-02-16 23:13:08--  https://bin.equinox.io/c/4VmDzA7iaHb/ngrok-stable-linux-amd64.zip\r\n",
      "Resolving bin.equinox.io (bin.equinox.io)... 34.196.237.103, 3.92.108.98, 34.232.40.183, ...\r\n",
      "Connecting to bin.equinox.io (bin.equinox.io)|34.196.237.103|:443... connected.\r\n",
      "HTTP request sent, awaiting response... 200 OK\r\n",
      "Length: 5363700 (5.1M) [application/octet-stream]\r\n",
      "Saving to: ‘ngrok-stable-linux-amd64.zip’\r\n",
      "\r\n",
      "ngrok-stable-linux- 100%[===================>]   5.11M  9.74MB/s    in 0.5s    \r\n",
      "\r\n",
      "2019-02-16 23:13:09 (9.74 MB/s) - ‘ngrok-stable-linux-amd64.zip’ saved [5363700/5363700]\r\n",
      "\r\n",
      "Archive:  ngrok-stable-linux-amd64.zip\r\n",
      "  inflating: ngrok                   \r\n",
      "http://978019cd.ngrok.io\r\n"
     ]
    }
   ],
   "source": [
    "!wget https://bin.equinox.io/c/4VmDzA7iaHb/ngrok-stable-linux-amd64.zip\n",
    "!unzip ngrok-stable-linux-amd64.zip\n",
    "LOG_DIR = './logs' # Here you have to put your log directory\n",
    "get_ipython().system_raw(\n",
    "    'tensorboard --logdir {} --host 0.0.0.0 --port 8080 &'\n",
    "    .format(LOG_DIR)\n",
    ")\n",
    "get_ipython().system_raw('./ngrok http 8080 &')\n",
    "! curl -s http://localhost:4040/api/tunnels | python3 -c \\\n",
    "    \"import sys, json; print(json.load(sys.stdin)['tunnels'][0]['public_url'])\""
   ]
  }
 ],
 "metadata": {
  "kernelspec": {
   "display_name": "Python 3",
   "language": "python",
   "name": "python3"
  },
  "language_info": {
   "codemirror_mode": {
    "name": "ipython",
    "version": 3
   },
   "file_extension": ".py",
   "mimetype": "text/x-python",
   "name": "python",
   "nbconvert_exporter": "python",
   "pygments_lexer": "ipython3",
   "version": "3.6.6"
  }
 },
 "nbformat": 4,
 "nbformat_minor": 1
}
